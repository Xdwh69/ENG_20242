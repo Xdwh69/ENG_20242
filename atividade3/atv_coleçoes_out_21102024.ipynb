#1. Crie uma lista contendo cinco números inteiros de sua escolha. Em seguida, percorra essa lista e imprima o valor de cada elemento multiplicado por 2. O resultado deve mostrar o novo valor de cada elemento, um por vez.

numeros = [3, 7, 1, 9, 5]

for numero in numeros:
    resultado = numero * 2
    print(resultado)

    #2. Dada a lista ["maçã", "banana", "laranja", "uva"], remova o item "banana" da lista e adicione a fruta "melancia" no lugar. Depois, mostre a nova lista atualizada com as alterações feitas.

frutas = ["maçã", "banana", "laranja", "uva"]
frutas.remove("banana")
frutas.append("melancia")
print(frutas)

#3. Escreva um programa que receba uma lista de números inteiros e exiba qual é o maior número e qual é o menor número presente na lista. Certifique-se de mostrar ambos os valores ao final.

numeros = [10, 5, 23, 1, 18]
maior = max(numeros)
menor = min(numeros)
print(f'Maior: {maior}, Menor: {menor}')

#4. Crie uma função que receba uma lista contendo várias palavras (strings). A função deve devolver uma nova lista que contenha a quantidade de letras de cada palavra da lista original. Exiba essa nova lista com o número de letras correspondente a cada palavra.

def contar_letras(palavras):
    return [len(palavra) for palavra in palavras]

palavras = ["maçã", "banana", "laranja"]
resultado = contar_letras(palavras)
print(resultado)

#5. Dada uma lista de números inteiros que você vai definir, ordene essa lista em ordem crescente e depois exiba o resultado da lista ordenada.

numeros = [5, 3, 8, 1, 4]
numeros.sort()
print(numeros)

#6. Crie uma tupla que contenha os números de 1 a 5. Tente alterar o valor do segundo elemento dessa tupla e observe o que acontece. No final, explique por que você conseguiu ou não modificar o valor.

tupla = (1, 2, 3, 4, 5)
tupla[1] = 10  # Isso gerará um erro, pois tuplas são imutáveis.

#7. Escreva um programa que receba uma tupla contendo diversos números inteiros. O programa deve calcular e exibir a soma de todos os números presentes na tupla.

numeros = (1, 2, 3, 4, 5)
soma = sum(numeros)
print(soma)

#8. Dada uma tupla que contém cinco números, crie uma função que retorne o primeiro e o último número dessa tupla. O programa deve imprimir ambos os valores corretamente.

def primeiro_ultimo(tupla):
    return tupla[0], tupla[-1]

tupla = (10, 20, 30, 40, 50)
resultado = primeiro_ultimo(tupla)
print(resultado)


#9. Converta a lista ["a", "b", "c", "d"] em uma tupla e, em seguida, exiba o tipo do novo objeto que foi criado. O programa deve deixar claro que o tipo mudou de lista para tupla.

lista = ["a", "b", "c", "d"]
tupla = tuple(lista)
print(type(tupla))

#10. Crie uma tupla com três números inteiros e uma string. Depois, verifique se o número 3 está presente nessa tupla e mostre uma mensagem dizendo se o número foi encontrado ou não.

tupla = (1, 2, 3, "quatro")
if 3 in tupla:
    print("Número 3 encontrado.")
else:
    print("Número 3 não encontrado.")
