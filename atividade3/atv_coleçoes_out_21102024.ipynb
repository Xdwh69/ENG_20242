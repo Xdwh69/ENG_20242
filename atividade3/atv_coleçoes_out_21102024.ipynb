#1. Crie uma lista contendo cinco números inteiros de sua escolha. Em seguida, percorra essa lista e imprima o valor de cada elemento multiplicado por 2. O resultado deve mostrar o novo valor de cada elemento, um por vez.

numeros = [3, 7, 1, 9, 5]

for numero in numeros:
    resultado = numero * 2
    print(resultado)

    #2. Dada a lista ["maçã", "banana", "laranja", "uva"], remova o item "banana" da lista e adicione a fruta "melancia" no lugar. Depois, mostre a nova lista atualizada com as alterações feitas.

frutas = ["maçã", "banana", "laranja", "uva"]
frutas.remove("banana")
frutas.append("melancia")
print(frutas)

#3. Escreva um programa que receba uma lista de números inteiros e exiba qual é o maior número e qual é o menor número presente na lista. Certifique-se de mostrar ambos os valores ao final.

numeros = [10, 5, 23, 1, 18]
maior = max(numeros)
menor = min(numeros)
print(f'Maior: {maior}, Menor: {menor}')

#4. Crie uma função que receba uma lista contendo várias palavras (strings). A função deve devolver uma nova lista que contenha a quantidade de letras de cada palavra da lista original. Exiba essa nova lista com o número de letras correspondente a cada palavra.

def contar_letras(palavras):
    return [len(palavra) for palavra in palavras]

palavras = ["maçã", "banana", "laranja"]
resultado = contar_letras(palavras)
print(resultado)

#5. Dada uma lista de números inteiros que você vai definir, ordene essa lista em ordem crescente e depois exiba o resultado da lista ordenada.

numeros = [5, 3, 8, 1, 4]
numeros.sort()
print(numeros)

#6. Crie uma tupla que contenha os números de 1 a 5. Tente alterar o valor do segundo elemento dessa tupla e observe o que acontece. No final, explique por que você conseguiu ou não modificar o valor.

tupla = (1, 2, 3, 4, 5)
tupla[1] = 10  # Isso gerará um erro, pois tuplas são imutáveis.

#7. Escreva um programa que receba uma tupla contendo diversos números inteiros. O programa deve calcular e exibir a soma de todos os números presentes na tupla.

numeros = (1, 2, 3, 4, 5)
soma = sum(numeros)
print(soma)

#8. Dada uma tupla que contém cinco números, crie uma função que retorne o primeiro e o último número dessa tupla. O programa deve imprimir ambos os valores corretamente.

def primeiro_ultimo(tupla):
    return tupla[0], tupla[-1]

tupla = (10, 20, 30, 40, 50)
resultado = primeiro_ultimo(tupla)
print(resultado)


#9. Converta a lista ["a", "b", "c", "d"] em uma tupla e, em seguida, exiba o tipo do novo objeto que foi criado. O programa deve deixar claro que o tipo mudou de lista para tupla.

lista = ["a", "b", "c", "d"]
tupla = tuple(lista)
print(type(tupla))

#10. Crie uma tupla com três números inteiros e uma string. Depois, verifique se o número 3 está presente nessa tupla e mostre uma mensagem dizendo se o número foi encontrado ou não.

tupla = (1, 2, 3, "quatro")
if 3 in tupla:
    print("Número 3 encontrado.")
else:
    print("Número 3 não encontrado.")

#11. Crie dois sets: set1 = {1, 2, 3, 4} e set2 = {3, 4, 5, 6}. Exiba a união dos dois sets (todos os elementos sem repetição), a interseção (elementos que aparecem nos dois sets) e a diferença (elementos presentes no primeiro set, mas não no segundo). Mostre os resultados de cada operação.

set1 = {1, 2, 3, 4}
set2 = {3, 4, 5, 6}

uniao = set1.union(set2)
intersecao = set1.intersection(set2)
diferenca = set1.difference(set2)

print("União:", uniao)
print("Interseção:", intersecao)
print("Diferença:", diferenca)

#12. Dada a lista [1, 2, 2, 3, 4, 4, 5], remova os elementos duplicados transformando a lista em um set. Ao final, exiba o set resultante, que deve conter apenas valores únicos.

lista = [1, 2, 2, 3, 4, 4, 5]
set_unico = set(lista)

print("Set resultante:", set_unico)

#13. Crie um set contendo os valores {5, 10, 15, 20}. Adicione o número 25 a esse set e depois remova o valor 15. Mostre o set após cada alteração.

meu_set = {5, 10, 15, 20}
print("Set inicial:", meu_set)

meu_set.add(25)
print("Após adicionar 25:", meu_set)

meu_set.remove(15)
print("Após remover 15:", meu_set)

#14. Verifique se o número 7 está presente no set {1, 2, 3, 4, 5}. O programa deve exibir uma mensagem informando se o número foi encontrado ou não no set.

meu_set = {1, 2, 3, 4, 5}
numero = 7

if numero in meu_set:
    print("O número 7 foi encontrado no set.")
else:
    print("O número 7 não foi encontrado no set.")

#15. Crie um set vazio e adicione vários valores a ele usando um laço de repetição (por exemplo, um for ou while). No final, mostre todos os valores armazenados no set.

set_vazio = set()
for i in range(1, 6):  # Exemplo com valores de 1 a 5
    set_vazio.add(i)

print("Valores armazenados no set:", set_vazio)

#16. Crie um dicionário com os pares chave-valor 'nome': 'Ana', 'idade': 22, 'curso': 'Engenharia'. Adicione uma nova chave 'universidade': 'USP' ao dicionário. Em seguida, exiba o dicionário completo com todas as informações.

dicionario = {'nome': 'Ana', 'idade': 22, 'curso': 'Engenharia'}
dicionario['universidade'] = 'USP'

print("Dicionário completo:", dicionario)


#17. Escreva um programa que percorra um dicionário com várias chaves e valores. Para cada par, imprima a chave e o valor no formato: Chave: X, Valor: Y. O dicionário pode conter qualquer informação que você preferir.

dicionario = {'produto': 'Notebook', 'preco': 3000, 'marca': 'Dell'}

for chave, valor in dicionario.items():
    print(f"Chave: {chave}, Valor: {valor}")


#18. Crie um dicionário que relacione nomes de alunos às suas notas. Depois, crie uma função que calcule e exiba a média das notas desses alunos com base nas informações do dicionário.

notas_alunos = {'Ana': 8.5, 'Bruno': 7.0, 'Carla': 9.0}

def calcular_media(notas):
    media = sum(notas.values()) / len(notas)
    print("Média das notas:", media)

calcular_media(notas_alunos)


#19. Escreva um programa que permita ao usuário buscar o valor de uma chave específica em um dicionário. Caso a chave não exista, o programa deve exibir uma mensagem dizendo que a chave não foi encontrada. Teste o programa com diferentes chaves.

dicionario = {'nome': 'Ana', 'idade': 22, 'curso': 'Engenharia'}

chave_buscada = input("Digite a chave que deseja buscar: ")

if chave_buscada in dicionario:
    print(f"{chave_buscada}: {dicionario[chave_buscada]}")
else:
    print("A chave não foi encontrada.")

#20. Dado um dicionário que contém produtos e seus respectivos preços, como {'pão': 2.50, 'leite': 3.00, 'café': 4.50}, permita que o usuário altere o preço de um dos produtos e exiba o dicionário atualizado com o novo valor.

produtos = {'pão': 2.50, 'leite': 3.00, 'café': 4.50}

produto_buscado = input("Digite o nome do produto cujo preço deseja alterar: ")
novo_preco = float(input("Digite o novo preço: "))

if produto_buscado in produtos:
    produtos[produto_buscado] = novo_preco
    print("Dicionário atualizado:", produtos)
else:
    print("Produto não encontrado.")

