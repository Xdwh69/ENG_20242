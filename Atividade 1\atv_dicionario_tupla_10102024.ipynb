Exercicios 
1-Crie uma tupla chamada cidades que contenha os nomes de cinco cidades. Imprima a terceira cidade.

cidades = ("São Paulo", "Rio de Janeiro", "Belo Horizonte", "Salvador", "Porto Alegre")
print(cidades[2])

#2 Crie uma tupla chamada numeros com os seguintes valores: (1, 2, 3, 1, 4, 1). Utilize o método count() para contar quantas vezes o número 1 aparece na tupla.

numeros = (1, 2, 3, 1, 4, 1)
quantidade_de_uns = numeros.count(1)
print(quantidade_de_uns)

#3 Crie uma tupla chamada animais com os seguintes valores: ('cachorro', 'gato', 'pássaro'). Verifique se 'gato' está na tupla e imprima uma mensagem informando o resultado.

animais = ('cachorro', 'gato', 'pássaro')

if 'gato' in animais:
    print("O gato está na tupla.")
else:
    print("O gato não está na tupla.")

#4 Dada a tupla meses = ('janeiro', 'fevereiro', 'março', 'abril', 'maio'), encontre e imprima o índice do mês 'abril'.

meses = ('janeiro', 'fevereiro', 'março', 'abril', 'maio')
indice_abri = meses.index('abril')
print(indice_abri)

#5 Crie uma tupla chamada coordenadas que armazene a latitude e longitude de um local (ex: (-23.5505, -46.6333)). Imprima a latitude e a longitude separadamente.

coordenadas = (-23.5505, -46.6333)

latitude = coordenadas[0]
longitude = coordenadas[1]

print("Latitude:", latitude)
print("Longitude:", longitude) 
Ao executar esse código, a saída será:

Latitude: -23.5505
Longitude: -46.6333

#6 Crie um dicionário chamado carro com as chaves marca, modelo e ano. Atribua valores de sua escolha e imprima o modelo do carro.

carro = {
    'marca': 'Toyota',
    'modelo': 'Corolla',
    'ano': 2022
}

print("Modelo do carro:", carro['modelo'])

#7 Use o dicionário carro que você criou no exercício anterior. Adicione uma nova chave chamada cor e atribua uma cor ao carro. Em seguida, imprima o dicionário completo.

carro = {
    'marca': 'Toyota',
    'modelo': 'Corolla',
    'ano': 2022
}

carro['cor'] = 'azul'

# Imprimindo o dicionário completo
print(carro)

#8 Dado o dicionário pessoa = {'nome': 'João', 'idade': 30, 'cidade': 'São Paulo'}, remova a chave idade e imprima o dicionário resultante.

pessoa = {'nome': 'João', 'idade': 30, 'cidade': 'São Paulo'}

pessoa.pop('idade')

print(pessoa)

#9 Crie um dicionário chamado produto que contenha nome, preco e quantidade. Use um loop for para imprimir todos os pares chave/valor.

produto = {
    'nome': 'Caderno',
    'preco': 15.90,
    'quantidade': 100
}

for chave, valor in produto.items():
    print(f"{chave}: {valor}")

#10 Dado o dicionário estudante = {'nome': 'Maria', 'curso': 'Biologia', 'ano': 2}, verifique se a chave curso existe. Se existir, imprima "A estudante está no curso de Biologia."

estudante = {'nome': 'Maria', 'curso': 'Biologia', 'ano': 2}


if 'curso' in estudante:
    print("A estudante está no curso de", estudante['curso'] + ".")


